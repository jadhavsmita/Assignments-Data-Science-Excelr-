{
 "cells": [
  {
   "cell_type": "code",
   "execution_count": 1,
   "metadata": {},
   "outputs": [],
   "source": [
    "import numpy as np\n",
    "import pandas as pd\n",
    "from scipy import stats"
   ]
  },
  {
   "cell_type": "markdown",
   "metadata": {},
   "source": [
    "# Q.2)"
   ]
  },
  {
   "cell_type": "code",
   "execution_count": 17,
   "metadata": {},
   "outputs": [
    {
     "name": "stdout",
     "output_type": "stream",
     "text": [
      "Total probability: 0.7887004526662893\n",
      "the probability that in any given week, there will be an investigation: 21.129954733371072\n"
     ]
    }
   ],
   "source": [
    "# mu= Average withdrawal amount = 50\n",
    "# sd=Standard deviation=40\n",
    "# p=P(45< x < 55)\n",
    "#a= P(x< 55), b= P(x<45)\n",
    "a=stats.norm.cdf(55,loc=50, scale=4)\n",
    "b=stats.norm.cdf(45,loc=50, scale=4)\n",
    "p1=(1-(a-b))\n",
    "p=print(\"Total probability:\",a-b)\n",
    "\n",
    "# We have to find thee probability for thee is investigation so we subdstract given calculated probability from 1\n",
    "print(\"the probability that in any given week, there will be an investigation:\",p1*100)\n",
    "\n"
   ]
  },
  {
   "cell_type": "markdown",
   "metadata": {},
   "source": []
  }
 ],
 "metadata": {
  "kernelspec": {
   "display_name": "Python 3",
   "language": "python",
   "name": "python3"
  },
  "language_info": {
   "codemirror_mode": {
    "name": "ipython",
    "version": 3
   },
   "file_extension": ".py",
   "mimetype": "text/x-python",
   "name": "python",
   "nbconvert_exporter": "python",
   "pygments_lexer": "ipython3",
   "version": "3.8.5"
  }
 },
 "nbformat": 4,
 "nbformat_minor": 4
}
